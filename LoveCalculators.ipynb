{
 "cells": [
  {
   "cell_type": "markdown",
   "id": "12d2d0fa",
   "metadata": {},
   "source": [
    "Use HTML if you want to use difrent color for the font "
   ]
  },
  {
   "cell_type": "markdown",
   "id": "0865a880",
   "metadata": {},
   "source": [
    "<span style=\"color:red; font-weight:bold; font-size:40px\">  Love Calculator</span>"
   ]
  },
  {
   "cell_type": "code",
   "execution_count": 1,
   "id": "cadc6d0a",
   "metadata": {},
   "outputs": [],
   "source": [
    "#1 simple using frequency of the names \n",
    "def love_calculator(name1,name2):\n",
    "    combined_names=name1.lower()+name2.lower()\n",
    "    love_score=sum([combined_names.count(letter) for letter in \"love\"])\n",
    "    true_score=sum([combined_names.count(letter) for letter in \"true\"])\n",
    "    love_percentage= int(str(true_score)+str(love_score))\n",
    "    return min(love_percentage,100)\n"
   ]
  },
  {
   "cell_type": "markdown",
   "id": "aaffb97f",
   "metadata": {},
   "source": [
    "e.g. Richi and Olivia \n",
    "it combine both name in lowercase richiolivia\n",
    "the function counts how many times the letters from the string appeers in  True and love \n",
    "in True= t=0 , r=1 , u=0 ,e=0 sum = 1 , in love = l=1, o=1, v=1, e=0 sum= 3 so percentage = 13 "
   ]
  },
  {
   "cell_type": "code",
   "execution_count": 2,
   "id": "78295348",
   "metadata": {},
   "outputs": [
    {
     "name": "stdout",
     "output_type": "stream",
     "text": [
      "Enter Your Name:  Richi\n",
      "Enter Partner's name: Quiting\n",
      "the love percentage between Richi and Quiting is30%\n"
     ]
    }
   ],
   "source": [
    "your_name=input(\"Enter Your Name:  \")\n",
    "partner_name=input(\"Enter Partner's name: \")\n",
    "percentage=love_calculator(your_name,partner_name)\n",
    "print(f\"the love percentage between {your_name} and {partner_name} is{percentage}%\" )"
   ]
  },
  {
   "cell_type": "code",
   "execution_count": 27,
   "id": "77ba8af3",
   "metadata": {},
   "outputs": [
    {
     "name": "stdout",
     "output_type": "stream",
     "text": [
      "Enter the first person's birth date\n",
      "Day: 4\n",
      "Month: 4\n",
      "Enter the second person's birth date\n",
      "Day: 17\n",
      "Month: 7\n",
      "Aries and Cancer are not astrologically compatible.\n"
     ]
    }
   ],
   "source": [
    "def get_zodiac_sign(day, month):\n",
    "    if (month == 3 and day >= 21) or (month == 4 and day <= 19):\n",
    "        return \"Aries\"\n",
    "    elif (month == 4 and day >= 20) or (month == 5 and day <= 20):\n",
    "        return \"Taurus\"\n",
    "    elif (month == 5 and day >= 21) or (month == 6 and day <= 20):\n",
    "        return \"Gemini\"\n",
    "    elif (month == 6 and day >= 21) or (month == 7 and day <= 22):\n",
    "        return \"Cancer\"\n",
    "    elif (month == 7 and day >= 23) or (month == 8 and day <= 22):\n",
    "        return \"Leo\"\n",
    "    elif (month == 8 and day >= 23) or (month == 9 and day <= 22):\n",
    "        return \"Virgo\"\n",
    "    elif (month == 9 and day >= 23) or (month == 10 and day <= 22):\n",
    "        return \"Libra\"\n",
    "    elif (month == 10 and day >= 23) or (month == 11 and day <= 21):\n",
    "        return \"Scorpio\"\n",
    "    elif (month == 11 and day >= 22) or (month == 12 and day <= 21):\n",
    "        return \"Sagittarius\"\n",
    "    elif (month == 12 and day >= 22) or (month == 1 and day <= 19):\n",
    "        return \"Capricorn\"\n",
    "    elif (month == 1 and day >= 20) or (month == 2 and day <= 18):\n",
    "        return \"Aquarius\"\n",
    "    elif (month == 2 and day >= 19) or (month == 3 and day <= 20):\n",
    "        return \"Pisces\"\n",
    "\n",
    "def check_compatibility(sign1, sign2):\n",
    "    compatible_signs = {\n",
    "        \"Aries\": [\"Leo\", \"Sagittarius\"],\n",
    "        \"Taurus\": [\"Virgo\", \"Capricorn\"],\n",
    "        \"Gemini\": [\"Libra\", \"Aquarius\"],\n",
    "        \"Cancer\": [\"Scorpio\", \"Pisces\"],\n",
    "        \"Leo\": [\"Aries\", \"Sagittarius\"],\n",
    "        \"Virgo\": [\"Taurus\", \"Capricorn\"],\n",
    "        \"Libra\": [\"Gemini\", \"Aquarius\"],\n",
    "        \"Scorpio\": [\"Cancer\", \"Pisces\"],\n",
    "        \"Sagittarius\": [\"Leo\", \"Aries\"],\n",
    "        \"Capricorn\": [\"Taurus\", \"Virgo\"],\n",
    "        \"Aquarius\": [\"Gemini\", \"Libra\"],\n",
    "        \"Pisces\": [\"Cancer\", \"Scorpio\"]\n",
    "    }\n",
    "    return sign2 in compatible_signs.get(sign1, [])\n",
    "\n",
    "print(\"Enter the first person's birth date\")\n",
    "day1 = int(input(\"Day: \"))\n",
    "month1 = int(input(\"Month: \"))\n",
    "print(\"Enter the second person's birth date\")\n",
    "day2 = int(input(\"Day: \"))\n",
    "month2 = int(input(\"Month: \"))\n",
    "\n",
    "zodiac1 = get_zodiac_sign(day1, month1)\n",
    "zodiac2 = get_zodiac_sign(day2, month2)\n",
    "\n",
    "if zodiac1 and zodiac2 and check_compatibility(zodiac1, zodiac2):\n",
    "    print(f\"{zodiac1} and {zodiac2} are astrologically compatible!\")\n",
    "else:\n",
    "    print(f\"{zodiac1} and {zodiac2} are not astrologically compatible.\")\n",
    "\n",
    "\n"
   ]
  },
  {
   "cell_type": "code",
   "execution_count": 1,
   "id": "713afa51",
   "metadata": {},
   "outputs": [
    {
     "name": "stdout",
     "output_type": "stream",
     "text": [
      "Chinese Zodiac Compatibility Score: 20%\n"
     ]
    }
   ],
   "source": [
    "def chinese_zodiac_animal(year):\n",
    "    animals = [\"Rat\", \"Ox\", \"Tiger\", \"Rabbit\", \"Dragon\", \"Snake\", \"Horse\", \"Sheep\", \"Monkey\", \"Rooster\", \"Dog\", \"Pig\"]\n",
    "    return animals[year % 12]\n",
    "\n",
    "def chinese_zodiac_element(year):\n",
    "    elements = [\"Metal\", \"Water\", \"Wood\", \"Fire\", \"Earth\"]\n",
    "    return elements[(year - 4) % 10 // 2]\n",
    "\n",
    "def chinese_zodiac_compatibility(year1, year2):\n",
    "    animal1, element1 = chinese_zodiac_animal(year1), chinese_zodiac_element(year1)\n",
    "    animal2, element2 = chinese_zodiac_animal(year2), chinese_zodiac_element(year2)\n",
    "\n",
    "    animal_compatibility = {\n",
    "        \"Rat\": [\"Dragon\", \"Monkey\"],\n",
    "        \"Ox\": [\"Snake\", \"Rooster\"],\n",
    "        \"Tiger\": [\"Horse\", \"Dog\"],\n",
    "        \"Rabbit\": [\"Sheep\", \"Pig\"],\n",
    "        \"Dragon\": [\"Rooster\", \"Rat\"],\n",
    "        \"Snake\": [\"Ox\", \"Monkey\"],\n",
    "        \"Horse\": [\"Dog\", \"Tiger\"],\n",
    "        \"Sheep\": [\"Pig\", \"Rabbit\"],\n",
    "        \"Monkey\": [\"Rat\", \"Snake\"],\n",
    "        \"Rooster\": [\"Ox\", \"Dragon\"],\n",
    "        \"Dog\": [\"Tiger\", \"Horse\"],\n",
    "        \"Pig\": [\"Rabbit\", \"Sheep\"]\n",
    "    }\n",
    "\n",
    "    element_compatibility = {\n",
    "        \"Metal\": [\"Water\", \"Earth\"],\n",
    "        \"Water\": [\"Wood\", \"Metal\"],\n",
    "        \"Wood\": [\"Fire\", \"Earth\"],\n",
    "        \"Fire\": [\"Earth\", \"Wood\"],\n",
    "        \"Earth\": [\"Metal\", \"Fire\"]\n",
    "    }\n",
    "\n",
    "    animal_score = 50 if animal2 in animal_compatibility.get(animal1, []) else 20\n",
    "    element_score = 50 if element2 in element_compatibility.get(element1, []) else 20\n",
    "\n",
    "    return (animal_score + element_score) // 2\n",
    "\n",
    "year1 = 1995\n",
    "year2 = 1995\n",
    "\n",
    "compatibility_score = chinese_zodiac_compatibility(year1, year2)\n",
    "print(f\"Chinese Zodiac Compatibility Score: {compatibility_score}%\")\n"
   ]
  },
  {
   "cell_type": "code",
   "execution_count": 2,
   "id": "96a2b3dd",
   "metadata": {},
   "outputs": [
    {
     "name": "stdout",
     "output_type": "stream",
     "text": [
      "Western Zodiac Compatibility Score: 20%\n"
     ]
    }
   ],
   "source": [
    "from datetime import datetime\n",
    "\n",
    "def get_western_zodiac_sign(day, month):\n",
    "    zodiac_signs = [\n",
    "        (\"Capricorn\", (12, 22), (1, 19)),\n",
    "        (\"Aquarius\", (1, 20), (2, 18)),\n",
    "        (\"Pisces\", (2, 19), (3, 20)),\n",
    "        (\"Aries\", (3, 21), (4, 19)),\n",
    "        (\"Taurus\", (4, 20), (5, 20)),\n",
    "        (\"Gemini\", (5, 21), (6, 20)),\n",
    "        (\"Cancer\", (6, 21), (7, 22)),\n",
    "        (\"Leo\", (7, 23), (8, 22)),\n",
    "        (\"Virgo\", (8, 23), (9, 22)),\n",
    "        (\"Libra\", (9, 23), (10, 22)),\n",
    "        (\"Scorpio\", (10, 23), (11, 21)),\n",
    "        (\"Sagittarius\", (11, 22), (12, 21))\n",
    "    ]\n",
    "    for sign, start, end in zodiac_signs:\n",
    "        if (month == start[0] and day >= start[1]) or (month == end[0] and day <= end[1]):\n",
    "            return sign\n",
    "    return \"Unknown\"\n",
    "\n",
    "def western_zodiac_compatibility(date1, date2):\n",
    "    date1 = datetime.strptime(date1, \"%Y-%m-%d\")\n",
    "    date2 = datetime.strptime(date2, \"%Y-%m-%d\")\n",
    "\n",
    "    sign1 = get_western_zodiac_sign(date1.day, date1.month)\n",
    "    sign2 = get_western_zodiac_sign(date2.day, date2.month)\n",
    "\n",
    "    compatibility = {\n",
    "        \"Aries\": [\"Leo\", \"Sagittarius\", \"Gemini\", \"Aquarius\"],\n",
    "        \"Taurus\": [\"Virgo\", \"Capricorn\", \"Cancer\", \"Pisces\"],\n",
    "        \"Gemini\": [\"Libra\", \"Aquarius\", \"Aries\", \"Leo\"],\n",
    "        \"Cancer\": [\"Scorpio\", \"Pisces\", \"Taurus\", \"Virgo\"],\n",
    "        \"Leo\": [\"Aries\", \"Sagittarius\", \"Gemini\", \"Libra\"],\n",
    "        \"Virgo\": [\"Taurus\", \"Capricorn\", \"Cancer\", \"Scorpio\"],\n",
    "        \"Libra\": [\"Gemini\", \"Aquarius\", \"Leo\", \"Sagittarius\"],\n",
    "        \"Scorpio\": [\"Cancer\", \"Pisces\", \"Virgo\", \"Capricorn\"],\n",
    "        \"Sagittarius\": [\"Leo\", \"Aries\", \"Libra\", \"Aquarius\"],\n",
    "        \"Capricorn\": [\"Taurus\", \"Virgo\", \"Scorpio\", \"Pisces\"],\n",
    "        \"Aquarius\": [\"Gemini\", \"Libra\", \"Aries\", \"Sagittarius\"],\n",
    "        \"Pisces\": [\"Cancer\", \"Scorpio\", \"Taurus\", \"Capricorn\"]\n",
    "    }\n",
    "\n",
    "    score = 80 if sign2 in compatibility.get(sign1, []) else 20\n",
    "    return score\n",
    "\n",
    "# Example usage\n",
    "date1 = \"1990-04-01\"\n",
    "date2 = \"1992-05-15\"\n",
    "compatibility_score = western_zodiac_compatibility(date1, date2)\n",
    "print(f\"Western Zodiac Compatibility Score: {compatibility_score}%\")\n"
   ]
  },
  {
   "cell_type": "code",
   "execution_count": 3,
   "id": "018df63e",
   "metadata": {},
   "outputs": [
    {
     "name": "stdout",
     "output_type": "stream",
     "text": [
      "Name Compatibility Score: 65.11627906976744%\n"
     ]
    }
   ],
   "source": [
    "def name_numerology(name):\n",
    "    alphabet = 'abcdefghijklmnopqrstuvwxyz'\n",
    "    numerology = {letter: (index % 9) + 1 for index, letter in enumerate(alphabet)}\n",
    "\n",
    "    return sum(numerology[char] for char in name.lower() if char in numerology)\n",
    "\n",
    "def name_compatibility(name1, name2):\n",
    "    score1 = name_numerology(name1)\n",
    "    score2 = name_numerology(name2)\n",
    "\n",
    "    compatibility = abs(score1 - score2) / max(score1, score2) * 100\n",
    "    return 100 - compatibility  # Invert so that closer scores mean higher compatibility\n",
    "\n",
    "# Example usage\n",
    "name1 = \"nabharaj\"\n",
    "name2 = \"qiuting\"\n",
    "compatibility_score = name_compatibility(name1, name2)\n",
    "print(f\"Name Compatibility Score: {compatibility_score}%\")\n"
   ]
  },
  {
   "cell_type": "code",
   "execution_count": null,
   "id": "9db09238",
   "metadata": {},
   "outputs": [
    {
     "name": "stdout",
     "output_type": "stream",
     "text": [
      "Enter the first person's birth year for Chinese Zodiac: 1997\n",
      "Enter the second person's birth year for Chinese Zodiac: 1995\n",
      "Enter the first person's birth date (YYYY-MM-DD) for Western Zodiac: 1997-07-17\n",
      "Enter the second person's birth date (YYYY-MM-DD) for Western Zodiac: 1995-04-04\n",
      "Enter the first person's name for Name Compatibility: qiuting\n",
      "Enter the second person's name for Name Compatibility: nabharaj\n",
      "Overall Compatibility Score: 40.03875968992248%\n"
     ]
    }
   ],
   "source": [
    "while True:\n",
    "    # Get input for Chinese Zodiac\n",
    "    year1 = int(input(\"Enter the first person's birth year for Chinese Zodiac: \"))\n",
    "    year2 = int(input(\"Enter the second person's birth year for Chinese Zodiac: \"))\n",
    "\n",
    "    # Get input for Western Zodiac\n",
    "    date1 = input(\"Enter the first person's birth date (YYYY-MM-DD) for Western Zodiac: \")\n",
    "    date2 = input(\"Enter the second person's birth date (YYYY-MM-DD) for Western Zodiac: \")\n",
    "\n",
    "    # Get input for Name Compatibility\n",
    "    name1 = input(\"Enter the first person's name for Name Compatibility: \")\n",
    "    name2 = input(\"Enter the second person's name for Name Compatibility: \")\n",
    "\n",
    "    # Calculate individual compatibility scores\n",
    "    chinese_score = chinese_zodiac_compatibility(year1, year2)\n",
    "    western_score = western_zodiac_compatibility(date1, date2)\n",
    "    name_score = name_compatibility(name1, name2)\n",
    "\n",
    "    # Calculate overall compatibility\n",
    "    overall_score = (chinese_score + western_score + name_score) / 3\n",
    "    print(f\"Overall Compatibility Score: {overall_score}%\")\n",
    "\n",
    "    # Check if the user wants to continue\n",
    "    continue_prompt = input(\"Do you want to calculate another compatibility? (yes/no): \")\n",
    "    if continue_prompt.lower() != 'yes':\n",
    "        break"
   ]
  },
  {
   "cell_type": "code",
   "execution_count": null,
   "id": "d384a81d",
   "metadata": {},
   "outputs": [],
   "source": []
  },
  {
   "cell_type": "code",
   "execution_count": null,
   "id": "a67f7e31",
   "metadata": {},
   "outputs": [],
   "source": []
  }
 ],
 "metadata": {
  "kernelspec": {
   "display_name": "Python 3 (ipykernel)",
   "language": "python",
   "name": "python3"
  },
  "language_info": {
   "codemirror_mode": {
    "name": "ipython",
    "version": 3
   },
   "file_extension": ".py",
   "mimetype": "text/x-python",
   "name": "python",
   "nbconvert_exporter": "python",
   "pygments_lexer": "ipython3",
   "version": "3.10.9"
  }
 },
 "nbformat": 4,
 "nbformat_minor": 5
}
